{
 "cells": [
  {
   "cell_type": "markdown",
   "metadata": {
    "id": "PtcBjMq7YV3f"
   },
   "source": [
    "# Homework 2 - Recurrent Neural Networks"
   ]
  },
  {
   "cell_type": "markdown",
   "metadata": {
    "id": "Rn-cOk1iZTtR"
   },
   "source": [
    "In this part of the homework we are going to work with Recurrent Neural Networks, in particular GRU. One of the greatest things that Recurrent Neural Networks can do when working with sequences is retaining data from several timesteps in the past. We are going to explore that property by constructing an 'echo' Recurrent Neural Network.\n",
    "\n",
    "The goal here is to make a model that given a sequence of letters or digits will output that same sequence, but with a certain delay. Let's say the input is a string 'abacaba', we want the model to not output anything for 3 steps (delay length), and then output the original string step by step, except the last 3 characters. So, target output is then 'XXXabac', where 'X' is empty output.\n",
    "\n",
    "This is similar to [this notebook](https://github.com/Atcold/pytorch-Deep-Learning/blob/master/09-echo_data.ipynb) (which you should refer to when doing this assignment), except we're working not with a binary string, but with a sequence of integers between 0 and some N. In our case N is 26, which is the number of letters in the alphabet."
   ]
  },
  {
   "cell_type": "markdown",
   "metadata": {
    "id": "npLlE973as6x"
   },
   "source": [
    "## Dataset\n",
    "\n",
    "Let's implement the dataset. In our case, the data is basically infinite, as we can always generate more examples on the fly, so don't need to load anything from disk."
   ]
  },
  {
   "cell_type": "code",
   "execution_count": 1,
   "metadata": {
    "id": "mkEEMyvzIMRx"
   },
   "outputs": [],
   "source": [
    "import random\n",
    "import string\n",
    "\n",
    "import torch\n",
    "\n",
    "# Max value of the generated integer. 26 is chosen because it's\n",
    "# the number of letters in English alphabet.\n",
    "N = 26\n",
    "\n",
    "def idx_to_onehot(x, k=N+1):\n",
    "  ones = torch.sparse.torch.eye(k).to(x.device)\n",
    "  \"\"\" Converts the generated integers to one-hot vectors \"\"\"\n",
    "  shape = x.shape\n",
    "  res = ones.index_select(0, x.view(-1).type(torch.int64))\n",
    "  return res.view(*shape, res.shape[-1])\n",
    "\n",
    "class EchoDataset(torch.utils.data.IterableDataset):\n",
    "  def __init__(self, delay=3, seq_length=15, size=1000):\n",
    "    self.delay = delay\n",
    "    self.seq_length = seq_length\n",
    "    self.size = size\n",
    "\n",
    "  def __len__(self):\n",
    "    return self.size\n",
    "\n",
    "  def __iter__(self):\n",
    "    \"\"\" Iterable dataset doesn't have to implement __getitem__.\n",
    "        Instead, we only need to implement __iter__ to return\n",
    "        an iterator (or generator).\n",
    "    \"\"\"\n",
    "    for _ in range(self.size):\n",
    "      seq = torch.tensor([random.choice(range(1, N + 1)) for i in range(self.seq_length)], dtype=torch.int64)\n",
    "      result = torch.cat((torch.zeros(self.delay), seq[:self.seq_length - self.delay])).type(torch.int64)\n",
    "      yield seq, result\n",
    "\n",
    "DELAY        = 4\n",
    "DATASET_SIZE = 200000\n",
    "ds           = EchoDataset(delay=DELAY, size=DATASET_SIZE)"
   ]
  },
  {
   "cell_type": "code",
   "execution_count": 2,
   "metadata": {},
   "outputs": [
    {
     "name": "stdout",
     "output_type": "stream",
     "text": [
      "tensor([[0., 1., 0., 0., 0., 0., 0., 0., 0., 0., 0., 0., 0., 0., 0., 0., 0., 0.,\n",
      "         0., 0., 0., 0., 0., 0., 0., 0., 0.],\n",
      "        [0., 0., 1., 0., 0., 0., 0., 0., 0., 0., 0., 0., 0., 0., 0., 0., 0., 0.,\n",
      "         0., 0., 0., 0., 0., 0., 0., 0., 0.],\n",
      "        [0., 0., 0., 0., 1., 0., 0., 0., 0., 0., 0., 0., 0., 0., 0., 0., 0., 0.,\n",
      "         0., 0., 0., 0., 0., 0., 0., 0., 0.],\n",
      "        [0., 0., 0., 0., 0., 1., 0., 0., 0., 0., 0., 0., 0., 0., 0., 0., 0., 0.,\n",
      "         0., 0., 0., 0., 0., 0., 0., 0., 0.],\n",
      "        [0., 0., 0., 0., 0., 0., 0., 0., 1., 0., 0., 0., 0., 0., 0., 0., 0., 0.,\n",
      "         0., 0., 0., 0., 0., 0., 0., 0., 0.]])\n"
     ]
    }
   ],
   "source": [
    "input = torch.tensor([1, 2, 4, 5, 8])\n",
    "print(idx_to_onehot(input))"
   ]
  },
  {
   "cell_type": "markdown",
   "metadata": {
    "id": "nNrZqYURcKSl"
   },
   "source": [
    "## Model\n",
    "\n",
    "Now, we want to implement the model. For our purposes, we want to use GRU. The architecture consists of GRU and a decoder. Decoder is responsible for decoding the GRU hidden state to yield a predicting for the next output. The parts you are responsible for filling with your code are marked with `TODO`."
   ]
  },
  {
   "cell_type": "code",
   "execution_count": 13,
   "metadata": {},
   "outputs": [],
   "source": [
    "char_to_int = lambda c: 0 if c == ' ' else ord(c) - ord('a') + 1\n",
    "int_to_char = lambda i: ' ' if i == 0 else chr(i + ord('a') - 1)"
   ]
  },
  {
   "cell_type": "code",
   "execution_count": 14,
   "metadata": {
    "id": "nigN_o4Mb9Nx"
   },
   "outputs": [],
   "source": [
    "class GRUMemory(torch.nn.Module):\n",
    "\n",
    "  def __init__(self, hidden_size):\n",
    "    super().__init__()\n",
    "    #TODO: initialize your submodules\n",
    "    self.hidden_size = hidden_size\n",
    "    self.model = torch.nn.GRU(input_size=N+1, hidden_size=hidden_size, num_layers=1, batch_first=True)\n",
    "    self.decoder = torch.nn.Linear(self.hidden_size, N + 1)\n",
    "\n",
    "  def forward(self, x):\n",
    "    # inputs: x - input tensor of shape (batch_size, seq_length, N+1)\n",
    "    # returns:\n",
    "    # logits (scores for softmax) of shape (batch size, seq_length, N + 1)\n",
    "    # TODO implement forward pass\n",
    "    h0 = torch.zeros(1, x.shape[0], self.hidden_size)\n",
    "    y, _ = self.model(x, h0)\n",
    "    y = self.decoder(y)\n",
    "    return y\n",
    "\n",
    "  @torch.no_grad()\n",
    "  def test_run(self, s):\n",
    "    # This function accepts one string s containing lowercase characters a-z.\n",
    "    # You need to map those characters to one-hot encodings of shape (len(s), N + 1),\n",
    "    # then feed the on-hot encodings into your network,\n",
    "    # then get the output from your network,\n",
    "    # then convert the output back to a string of the same length, with 0 mapped to ' ',\n",
    "    # and 1-26 mapped to a-z.\n",
    "\n",
    "    # TODO\n",
    "    encoded = list(map(char_to_int, s))\n",
    "    encoded = idx_to_onehot(torch.tensor(encoded))\n",
    "\n",
    "    result = self(encoded.unsqueeze(0))\n",
    "    result = result.max(dim=-1).indices[0]\n",
    "    result = list(map(int_to_char, result))\n",
    "\n",
    "    return ''.join(result)\n",
    "    \n",
    "    "
   ]
  },
  {
   "cell_type": "markdown",
   "metadata": {
    "id": "A9whwmVu9OIx"
   },
   "source": [
    "## Training\n",
    "Below you need to implement the training of the model. We give you more freedom as for the implementation. The two limitations are that it has to execute within 10 minutes, and that error rate should be below 1%."
   ]
  },
  {
   "cell_type": "code",
   "execution_count": 15,
   "metadata": {
    "id": "lUZkeRnVTNzG"
   },
   "outputs": [],
   "source": [
    "def test_model(model):\n",
    "  \"\"\"\n",
    "  This is the test function that runs 100 different strings through your model,\n",
    "  and checks the error rate.\n",
    "  \"\"\"\n",
    "  total = 0\n",
    "  correct = 0\n",
    "  for i in range(500):\n",
    "    s = ''.join([random.choice(string.ascii_lowercase) for i in range(random.randint(15, 25))])\n",
    "    result = model.test_run(s)\n",
    "    for c1, c2 in zip(s[:-DELAY], result[DELAY:]):\n",
    "      correct += int(c1 == c2)\n",
    "    total += len(s) - DELAY\n",
    "\n",
    "  return correct / total"
   ]
  },
  {
   "cell_type": "code",
   "execution_count": null,
   "metadata": {
    "id": "9lV9BscxCCAI"
   },
   "outputs": [
    {
     "data": {
      "application/vnd.jupyter.widget-view+json": {
       "model_id": "76cf8fa536ac4d52b2d8e2d2d1ea9c63",
       "version_major": 2,
       "version_minor": 0
      },
      "text/plain": [
       "  0%|          | 0/3125 [00:00<?, ?it/s]"
      ]
     },
     "metadata": {},
     "output_type": "display_data"
    },
    {
     "name": "stdout",
     "output_type": "stream",
     "text": [
      "1.0\n",
      "tests passed\n"
     ]
    }
   ],
   "source": [
    "import time\n",
    "from tqdm.notebook import tqdm\n",
    "from torch import nn\n",
    "start_time = time.time()\n",
    "\n",
    "HIDDEN_SIZE = 128 \n",
    "BATCH_SIZE  = 64\n",
    "\n",
    "def train_model(model, dataloader):\n",
    "  # TODO: implement training code\n",
    "  optimizer = torch.optim.Adam(model.parameters(), lr=1e-4 * BATCH_SIZE)\n",
    "  criterion = torch.nn.CrossEntropyLoss()\n",
    "  model.train()\n",
    "\n",
    "  if torch.cuda.is_available():\n",
    "      model = model.cuda()\n",
    "      criterion = criterion.cuda()\n",
    "      device = torch.device(\"cuda:0\")\n",
    "  else:\n",
    "      device = torch.device(\"cpu\")\n",
    "\n",
    "  dataloader_progress_wrapper = tqdm(dataloader)\n",
    "  for data in dataloader_progress_wrapper:\n",
    "    inp, label = data[0], data[1]\n",
    "    x = idx_to_onehot(inp).to(device)\n",
    "    y = label.to(device)\n",
    "\n",
    "    out = model(x)\n",
    "    loss = criterion(out.view(-1, N+1), label.view(-1))\n",
    "\n",
    "    optimizer.zero_grad()\n",
    "    loss.backward()\n",
    "    optimizer.step()\n",
    "    \n",
    "    dataloader_progress_wrapper.set_postfix({\"loss\": loss.item()})\n",
    "      \n",
    "model = GRUMemory(HIDDEN_SIZE)\n",
    "dataloader = torch.utils.data.DataLoader(ds, batch_size=BATCH_SIZE)\n",
    "train_model(model, dataloader)\n",
    "\n",
    "end_time = time.time()\n",
    "duration = end_time - start_time\n",
    "accuracy = test_model(model)\n",
    "print(accuracy)\n",
    "assert duration < 600, 'execution took f{duration:.2f} seconds, which longer than 10 mins'\n",
    "assert accuracy > 0.99, f'accuracy is too low, got {accuracy}, need 0.99'\n",
    "print('tests passed')"
   ]
  },
  {
   "cell_type": "markdown",
   "metadata": {
    "id": "sB0EVNBtDhpN"
   },
   "source": [
    "## Variable delay model\n",
    "\n",
    "Now, to make this more complicated, we want to have varialbe delay. So, now, the goal is to transform a sequence of pairs (character, delay) into a character sequence with given delay. Delay stays constant within one sequence."
   ]
  },
  {
   "cell_type": "markdown",
   "metadata": {
    "id": "3i_iwX_AEOCH"
   },
   "source": [
    "### Dataset\n",
    "As before, we first implement the dataset:"
   ]
  },
  {
   "cell_type": "code",
   "execution_count": 17,
   "metadata": {
    "id": "E4G5b8kuEUEd"
   },
   "outputs": [],
   "source": [
    "class VariableDelayEchoDataset(torch.utils.data.IterableDataset):\n",
    "  def __init__(self, max_delay=8, seq_length=20, size=1000):\n",
    "    self.max_delay = max_delay\n",
    "    self.seq_length = seq_length\n",
    "    self.size = size\n",
    "\n",
    "  def __len__(self):\n",
    "    return self.size\n",
    "\n",
    "  def __iter__(self):\n",
    "    for _ in range(self.size):\n",
    "      seq = torch.tensor([random.choice(range(1, N + 1)) for i in range(self.seq_length)], dtype=torch.int64)\n",
    "      delay = random.randint(0, self.max_delay)\n",
    "      result = torch.cat((torch.zeros(delay), seq[:self.seq_length - delay])).type(torch.int64)\n",
    "      yield seq, delay, result"
   ]
  },
  {
   "cell_type": "code",
   "execution_count": 18,
   "metadata": {},
   "outputs": [
    {
     "name": "stdout",
     "output_type": "stream",
     "text": [
      "(tensor([16,  9, 24, 23,  6,  3,  9, 19, 25, 18,  2, 16, 20, 15, 15, 25,  6, 26,\n",
      "        26, 26]), 6, tensor([ 0,  0,  0,  0,  0,  0, 16,  9, 24, 23,  6,  3,  9, 19, 25, 18,  2, 16,\n",
      "        20, 15]))\n",
      "(tensor([10, 19,  2, 19, 24,  7,  4,  7, 10,  6, 19, 21, 11,  2, 22, 23, 18,  6,\n",
      "        13,  2]), 4, tensor([ 0,  0,  0,  0, 10, 19,  2, 19, 24,  7,  4,  7, 10,  6, 19, 21, 11,  2,\n",
      "        22, 23]))\n",
      "(tensor([20, 16, 15, 21, 16,  5,  7, 19,  9,  6, 18, 20, 23, 15,  8,  8,  2, 23,\n",
      "        20, 10]), 6, tensor([ 0,  0,  0,  0,  0,  0, 20, 16, 15, 21, 16,  5,  7, 19,  9,  6, 18, 20,\n",
      "        23, 15]))\n",
      "(tensor([20, 19, 13, 10,  9,  5, 22, 21,  7, 19, 20, 12, 19,  4, 17, 21, 11,  5,\n",
      "        12, 25]), 6, tensor([ 0,  0,  0,  0,  0,  0, 20, 19, 13, 10,  9,  5, 22, 21,  7, 19, 20, 12,\n",
      "        19,  4]))\n",
      "(tensor([17, 14, 22, 16,  7, 20,  5, 22, 12,  2, 11,  8,  7, 22, 13,  8, 19, 26,\n",
      "        18, 20]), 4, tensor([ 0,  0,  0,  0, 17, 14, 22, 16,  7, 20,  5, 22, 12,  2, 11,  8,  7, 22,\n",
      "        13,  8]))\n"
     ]
    }
   ],
   "source": [
    "d = VariableDelayEchoDataset()\n",
    "i = 0\n",
    "for data in d:\n",
    "  print(data)\n",
    "  i += 1\n",
    "  if i == 5: break"
   ]
  },
  {
   "cell_type": "markdown",
   "metadata": {
    "id": "oTRVOND3HEJZ"
   },
   "source": [
    "### Model\n",
    "\n",
    "And the model."
   ]
  },
  {
   "cell_type": "code",
   "execution_count": 29,
   "metadata": {
    "id": "IYolFIB8Hg0U"
   },
   "outputs": [],
   "source": [
    "class VariableDelayGRUMemory(torch.nn.Module):\n",
    "  def __init__(self, hidden_size, max_delay):\n",
    "    super().__init__()\n",
    "    #TODO\n",
    "    self.hidden_size = hidden_size\n",
    "    self.max_delay = max_delay\n",
    "    self.model = torch.nn.GRU(\n",
    "        input_size=N + 1, \n",
    "        hidden_size=hidden_size, \n",
    "        num_layers=1,\n",
    "        batch_first=True)\n",
    "    self.decoder = torch.nn.Linear(self.hidden_size, (self.max_delay + 1) * (N + 1))\n",
    "\n",
    "  def forward(self, x, delays):\n",
    "    # inputs:\n",
    "    # x - tensor of shape (batch size, seq length, N + 1)\n",
    "    # delays - tensor of shape (batch size)\n",
    "    # returns:\n",
    "    # logits (scores for softmax) of shape (batch size, seq_length, N + 1)\n",
    "\n",
    "    # TODO\n",
    "    h0 = torch.zeros(1, x.shape[0], self.hidden_size)\n",
    "    y, _ = self.model(x, h0)\n",
    "    y = self.decoder(y)\n",
    "    y = y.view(*y.shape[:-1], self.max_delay + 1, N + 1)\n",
    "    delays = idx_to_onehot(delays, self.max_delay + 1)\n",
    "    delays = delays.unsqueeze(1).repeat(1, x.shape[1], 1)\n",
    "    y = (y * delays.unsqueeze(-1))\n",
    "    y = y.sum(dim=-2)\n",
    "    return y\n",
    "\n",
    "  @torch.no_grad()\n",
    "  def test_run(self, s, delay):\n",
    "    # This function accepts one string s containing lowercase characters a-z,\n",
    "    # and an int delay - the desired output delay.\n",
    "    # You need to map those characters to one-hot encodings,\n",
    "    # then feed the one-hot encodings into your network,\n",
    "    # then get the output from your network,\n",
    "    # then convert the output back to a string of the same length, with 0 mapped to ' ',\n",
    "    # and 1-26 mapped to a-z.\n",
    "\n",
    "    # TODO\n",
    "    numbers = torch.tensor(list(map(char_to_int, s)))\n",
    "    one_hots = idx_to_onehot(numbers, N+1).unsqueeze(0)\n",
    "    delay = torch.tensor([delay])\n",
    "\n",
    "    result = self(one_hots, delay)\n",
    "    result = result.max(dim=-1).indices[0]\n",
    "\n",
    "    result = list(map(int_to_char, result))\n",
    "\n",
    "    return ''.join(result)\n"
   ]
  },
  {
   "cell_type": "code",
   "execution_count": 30,
   "metadata": {
    "id": "Mly06pPw-6B1"
   },
   "outputs": [],
   "source": [
    "def test_variable_delay_model(model, max_delay=12):\n",
    "  \"\"\"\n",
    "  This is the test function that runs 100 different strings through your model,\n",
    "  and checks the error rate.\n",
    "  \"\"\"\n",
    "  delay = random.randint(0, max_delay)\n",
    "\n",
    "  total = 0\n",
    "  correct = 0\n",
    "  for i in range(1000):\n",
    "    s = ''.join([random.choice(string.ascii_lowercase) for i in range(random.randint(15, 25))])\n",
    "    result = model.test_run(s, delay)\n",
    "    for c1, c2 in zip(s[:-delay], result[delay:]):\n",
    "      correct += int(c1 == c2)\n",
    "    total += len(s) - delay\n",
    "\n",
    "  return correct / total"
   ]
  },
  {
   "cell_type": "markdown",
   "metadata": {
    "id": "riu3qHWgKjsx"
   },
   "source": [
    "### Train\n",
    "\n",
    "As before, you're free to do what you want, as long as training finishes within 10 minutes and accuracy is above 0.99 for delays between 0 and 8."
   ]
  },
  {
   "cell_type": "code",
   "execution_count": 32,
   "metadata": {
    "id": "yUKJQWHguLAQ"
   },
   "outputs": [
    {
     "data": {
      "application/vnd.jupyter.widget-view+json": {
       "model_id": "4a8d1ce8862042d4a0d9d1659d0bdadc",
       "version_major": 2,
       "version_minor": 0
      },
      "text/plain": [
       "  0%|          | 0/4688 [00:00<?, ?it/s]"
      ]
     },
     "metadata": {},
     "output_type": "display_data"
    },
    {
     "name": "stdout",
     "output_type": "stream",
     "text": [
      "0.9928320550498172\n",
      "tests passed\n"
     ]
    }
   ],
   "source": [
    "import time\n",
    "start_time = time.time()\n",
    "\n",
    "MAX_DELAY = 12\n",
    "SEQ_LENGTH = 20\n",
    "\n",
    "\n",
    "from tqdm.notebook import tqdm\n",
    "from torch import nn\n",
    "\n",
    "HIDDEN_SIZE = 128\n",
    "BATCH_SIZE  = 128\n",
    "\n",
    "def train_variable_delay_model(model, dataloader):\n",
    "  optimizer = torch.optim.Adam(model.parameters(), lr=1e-4 * BATCH_SIZE)\n",
    "  criterion = torch.nn.CrossEntropyLoss()\n",
    "\n",
    "  model.train()\n",
    "\n",
    "  if torch.cuda.is_available():\n",
    "    model = model.cuda()\n",
    "    criterion = criterion.cuda()\n",
    "    device = torch.device(\"cuda:0\")\n",
    "  else:\n",
    "    device = torch.device(\"cpu\")\n",
    "  \n",
    "  dataloader_progress_wrapper = tqdm(dataloader)\n",
    "  for data in dataloader_progress_wrapper:\n",
    "    inputs, delays, labels = data[0], data[1], data[2]\n",
    "    inputs = idx_to_onehot(inputs).to(device)\n",
    "    delays = delays.to(device)\n",
    "    labels = labels.to(device)\n",
    "\n",
    "    outputs = model(inputs, delays)\n",
    "  \n",
    "    loss = criterion(outputs.view(-1, N + 1), labels.view(-1))\n",
    "  \n",
    "    optimizer.zero_grad()\n",
    "    loss.backward()\n",
    "    optimizer.step()\n",
    "\n",
    "model = VariableDelayGRUMemory(hidden_size=HIDDEN_SIZE, max_delay=MAX_DELAY)\n",
    "ds = VariableDelayEchoDataset(max_delay=MAX_DELAY, size=600000, seq_length=SEQ_LENGTH)\n",
    "dataloader = torch.utils.data.DataLoader(ds, batch_size=BATCH_SIZE)\n",
    "train_variable_delay_model(model, dataloader)\n",
    "\n",
    "end_time = time.time()\n",
    "assert end_time - start_time < 600, 'executing took longer than 10 mins'\n",
    "accuracy = test_variable_delay_model(model, max_delay=MAX_DELAY)\n",
    "print(accuracy)\n",
    "assert accuracy > 0.95, 'accuracy is too low'\n",
    "print('tests passed')"
   ]
  },
  {
   "cell_type": "code",
   "execution_count": null,
   "metadata": {},
   "outputs": [],
   "source": []
  }
 ],
 "metadata": {
  "accelerator": "GPU",
  "colab": {
   "gpuType": "T4",
   "provenance": []
  },
  "kernelspec": {
   "display_name": "Python 3 (ipykernel)",
   "language": "python",
   "name": "python3"
  },
  "language_info": {
   "codemirror_mode": {
    "name": "ipython",
    "version": 3
   },
   "file_extension": ".py",
   "mimetype": "text/x-python",
   "name": "python",
   "nbconvert_exporter": "python",
   "pygments_lexer": "ipython3",
   "version": "3.13.0"
  }
 },
 "nbformat": 4,
 "nbformat_minor": 4
}
